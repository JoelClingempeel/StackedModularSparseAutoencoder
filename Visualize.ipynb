{
 "cells": [
  {
   "cell_type": "code",
   "execution_count": 43,
   "metadata": {},
   "outputs": [],
   "source": [
    "import glob\n",
    "import matplotlib.pyplot as plt\n",
    "import numpy as np\n",
    "import os\n",
    "import pandas as pd\n",
    "\n",
    "from tensorboard.backend.event_processing.event_accumulator import EventAccumulator"
   ]
  },
  {
   "cell_type": "code",
   "execution_count": 4,
   "metadata": {},
   "outputs": [],
   "source": [
    "PATH = 'logs/2020-12-06_11:21:55.523129/layer_1'"
   ]
  },
  {
   "cell_type": "code",
   "execution_count": 26,
   "metadata": {},
   "outputs": [],
   "source": [
    "def get_event_file(path):\n",
    "    for file in glob.glob(os.path.join(path, '*')):\n",
    "        if os.path.split(file)[-1].split('.')[0] == 'events':\n",
    "            return file\n",
    "        \n",
    "def get_event_files(path):\n",
    "    event_files = {'base': get_event_file(path)}\n",
    "    for file in glob.glob(os.path.join(path, '*')):\n",
    "        if file.split('/')[-1].isnumeric():\n",
    "            num = os.path.split(file)[-1]\n",
    "            event_files[num] = get_event_file(os.path.join(path, num))\n",
    "    return event_files\n",
    "\n",
    "def get_scalar_data(file):\n",
    "    acc = EventAccumulator(file)\n",
    "    acc.Reload()\n",
    "    scalars = acc.Tags()['scalars']\n",
    "\n",
    "    data_dict = {}\n",
    "    for scalar in scalars:\n",
    "        data_dict[scalar] = [event.value for event in acc.Scalars(scalar)]\n",
    "\n",
    "    return pd.DataFrame(data_dict)"
   ]
  },
  {
   "cell_type": "code",
   "execution_count": 66,
   "metadata": {},
   "outputs": [],
   "source": [
    "files = get_event_files(PATH)\n",
    "activation_data = []\n",
    "for label, path in files.items():\n",
    "    if label.isnumeric():\n",
    "        table = get_scalar_data(data[label])\n",
    "        activation_data.append([score for score in table.iloc[-1]])\n",
    "activation_data = np.array(activation_data).transpose(1, 0)"
   ]
  },
  {
   "cell_type": "code",
   "execution_count": 67,
   "metadata": {},
   "outputs": [
    {
     "data": {
      "text/plain": [
       "<matplotlib.image.AxesImage at 0x142f42490>"
      ]
     },
     "execution_count": 67,
     "metadata": {},
     "output_type": "execute_result"
    },
    {
     "data": {
      "image/png": "[encoded data removed]",
      "text/plain": [
       "<Figure size 432x288 with 1 Axes>"
      ]
     },
     "metadata": {
      "needs_background": "light"
     },
     "output_type": "display_data"
    }
   ],
   "source": [
    "plt.imshow(activation_data, cmap='gray_r')"
   ]
  },
  {
   "cell_type": "code",
   "execution_count": null,
   "metadata": {},
   "outputs": [],
   "source": []
  }
 ],
 "metadata": {
  "kernelspec": {
   "display_name": "Python 3",
   "language": "python",
   "name": "python3"
  },
  "language_info": {
   "codemirror_mode": {
    "name": "ipython",
    "version": 3
   },
   "file_extension": ".py",
   "mimetype": "text/x-python",
   "name": "python",
   "nbconvert_exporter": "python",
   "pygments_lexer": "ipython3",
   "version": "3.7.6"
  }
 },
 "nbformat": 4,
 "nbformat_minor": 2
}
